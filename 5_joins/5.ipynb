{
 "cells": [
  {
   "cell_type": "code",
   "execution_count": 41,
   "source": [
    "from pyspark.sql import SparkSession\n",
    "from pyspark.sql import functions as F\n",
    "\n",
    "spark = SparkSession.builder.master('local[4]').appName('joins_hw').getOrCreate()"
   ],
   "outputs": [],
   "metadata": {}
  },
  {
   "cell_type": "code",
   "execution_count": 42,
   "source": [
    "# Создаём датасет для примеров\n",
    "dataset_1 = [\n",
    "  {\n",
    "    'key_1' : 'abc',\n",
    "    'value_1' : 10,\n",
    "    'value_2' : 20\n",
    "  },\n",
    "  {\n",
    "    'key_1' : 'def',\n",
    "    'value_1' : 100,\n",
    "    'value_2' : 300\n",
    "  }\n",
    "]\n",
    "\n",
    "dataset_2 = [\n",
    "  {\n",
    "    'key_2' : 'abc',\n",
    "    'value_1' : 5.5,\n",
    "    'value_2' : 2.2\n",
    "  },\n",
    "  {\n",
    "    'key_2' : 'xyz',\n",
    "    'value_1' : 10.1,\n",
    "    'value_2' : 13.5\n",
    "  }\n",
    "]\n",
    "\n",
    "df1 = spark.createDataFrame(dataset_1)\n",
    "print('df1')\n",
    "df1.show()\n",
    "\n",
    "df2 = spark.createDataFrame(dataset_2)\n",
    "print('df2')\n",
    "df2.show()"
   ],
   "outputs": [
    {
     "output_type": "stream",
     "name": "stdout",
     "text": [
      "df1\n",
      "+-----+-------+-------+\n",
      "|key_1|value_1|value_2|\n",
      "+-----+-------+-------+\n",
      "|  abc|     10|     20|\n",
      "|  def|    100|    300|\n",
      "+-----+-------+-------+\n",
      "\n",
      "df2\n",
      "+-----+-------+-------+\n",
      "|key_2|value_1|value_2|\n",
      "+-----+-------+-------+\n",
      "|  abc|    5.5|    2.2|\n",
      "|  xyz|   10.1|   13.5|\n",
      "+-----+-------+-------+\n",
      "\n"
     ]
    }
   ],
   "metadata": {}
  },
  {
   "cell_type": "markdown",
   "source": [
    "# Left Semi join\n"
   ],
   "metadata": {}
  },
  {
   "cell_type": "code",
   "execution_count": 6,
   "source": [
    "# Создайте джойн, чтобы получить следующую таблицу\n",
    "# +---+-------+-------+\n",
    "# |key|value_1|value_2|\n",
    "# +---+-------+-------+\n",
    "# |abc|     10|     20|\n",
    "# +---+-------+-------+\n",
    "df1.join(df2, df1.key_1 == df2.key_2, 'left_semi').show()"
   ],
   "outputs": [
    {
     "output_type": "stream",
     "name": "stderr",
     "text": []
    },
    {
     "output_type": "stream",
     "name": "stdout",
     "text": [
      "+-----+-------+-------+\n",
      "|key_1|value_1|value_2|\n",
      "+-----+-------+-------+\n",
      "|  abc|     10|     20|\n",
      "+-----+-------+-------+\n",
      "\n"
     ]
    },
    {
     "output_type": "stream",
     "name": "stderr",
     "text": []
    }
   ],
   "metadata": {}
  },
  {
   "cell_type": "markdown",
   "source": [
    "# Left Anti join\n"
   ],
   "metadata": {}
  },
  {
   "cell_type": "code",
   "execution_count": 12,
   "source": [
    "# Создайте джойн, чтобы получить следующую таблицу\n",
    "# +---+-------+-------+\n",
    "# |key|value_1|value_2|\n",
    "# +---+-------+-------+\n",
    "# |def|    100|    300|\n",
    "# +---+-------+-------+\n",
    "df1.join(df2, (df1.key_1 == df2.key_2), 'left_anti').show()"
   ],
   "outputs": [
    {
     "output_type": "stream",
     "name": "stderr",
     "text": []
    },
    {
     "output_type": "stream",
     "name": "stdout",
     "text": [
      "+-----+-------+-------+\n",
      "|key_1|value_1|value_2|\n",
      "+-----+-------+-------+\n",
      "|  def|    100|    300|\n",
      "+-----+-------+-------+\n",
      "\n"
     ]
    },
    {
     "output_type": "stream",
     "name": "stderr",
     "text": []
    }
   ],
   "metadata": {}
  },
  {
   "cell_type": "markdown",
   "source": [
    "# Inner join "
   ],
   "metadata": {}
  },
  {
   "cell_type": "code",
   "execution_count": 40,
   "source": [
    "# Создайте Inner джойн с условиями value_1 > value_1, а value_2 < value_2, для df1 и df2, соответсвенно\n",
    "# В  итоге получится таблица\n",
    "# +---+-------+-------+---+-------+-------+\n",
    "# |key|value_1|value_2|key|value_1|value_2|\n",
    "# +---+-------+-------+---+-------+-------+\n",
    "# |abc|     10|     20|abc|    5.5|    2.2|\n",
    "# |abc|     10|     20|xyz|   10.1|   13.5|\n",
    "# |def|    100|    300|abc|    5.5|    2.2|\n",
    "# |def|    100|    300|xyz|   10.1|   13.5|\n",
    "# +---+-------+-------+---+-------+-------+\n",
    "cond = [(df1.value_1 > df2.value_1) & (df1.value_2 < df2.value_2)]\n",
    "df1.join(df2, cond, 'inner').show() # ???"
   ],
   "outputs": [
    {
     "output_type": "stream",
     "name": "stdout",
     "text": [
      "+-----+-------+-------+-----+-------+-------+\n",
      "|key_1|value_1|value_2|key_2|value_1|value_2|\n",
      "+-----+-------+-------+-----+-------+-------+\n",
      "+-----+-------+-------+-----+-------+-------+\n",
      "\n"
     ]
    }
   ],
   "metadata": {}
  }
 ],
 "metadata": {
  "orig_nbformat": 4,
  "language_info": {
   "name": "python",
   "version": "3.8.5",
   "mimetype": "text/x-python",
   "codemirror_mode": {
    "name": "ipython",
    "version": 3
   },
   "pygments_lexer": "ipython3",
   "nbconvert_exporter": "python",
   "file_extension": ".py"
  },
  "kernelspec": {
   "name": "python3",
   "display_name": "Python 3.8.5 64-bit ('base': conda)"
  },
  "interpreter": {
   "hash": "32086f9b7cc52bc2c8629421cf6cba175094c2e18299455caf64f8eb675094c9"
  }
 },
 "nbformat": 4,
 "nbformat_minor": 2
}