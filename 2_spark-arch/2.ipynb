{
 "cells": [
  {
   "cell_type": "markdown",
   "source": [
    "# Домашняя работа\n",
    "Прочитайте файлы в rdd, проведите их анализ, и расскажите, чем они отлачаются (для оценки отлично достаточно чтения файла и просмотра части его содержимого и сравнения названия колонок).\n",
    "\n",
    "\n",
    "\n",
    "\n",
    "1.   [train файл](https://drive.google.com/file/d/1-ZUPzC1l-YqTpgT0M_R5Kmk54Iy0RMDA/view?usp=sharing)\n",
    "2.   [test файл](https://drive.google.com/file/d/1-_1uEuafH0YR4C7Ksy2qcNj_0agi6SN_/view?usp=sharing)\n"
   ],
   "metadata": {}
  },
  {
   "cell_type": "markdown",
   "source": [
    "\n",
    "## Описание данных\n",
    "Данные взяты отсюда: https://www.kaggle.com/iabhishekofficial/mobile-price-classification\n",
    "\n",
    "Скачиваем и копируем в папку с нотебуком, либо используем ссылки выше.\n",
    "\n",
    "Внутри содержится следующая информация:\n",
    "\n",
    "* id: ID\n",
    "* battery_power: Total energy a battery can store in one time (mAh)\n",
    "* blue: Support bluetooth or not\n",
    "* clock_speed: Speed at which microprocessor executes instructions\n",
    "* dual_sim: Support dual sim or not\n",
    "* fc: Front Camera mega pixels\n",
    "* four_g: Support 4G or not\n",
    "* int_memory: Internal Memory (GB)\n",
    "* m_dep: Mobile Depth (cm)\n",
    "* mobile_wt: Weight of mobile phone\n",
    "* n_cores: Number of cores of processor\n",
    "* pc: Primary Camera mega pixels\n",
    "* px_height: Pixel Resolution Height\n",
    "* px_width: Pixel Resolution Width\n",
    "* ram: Random Access Memory (MB)\n",
    "* sc_h: Screen Height of mobile (cm)\n",
    "* sc_w: Screen Width of mobile (cm)\n",
    "* talk_time: Time that a single battery charge will last\n",
    "* three_g: Support 3G or not\n",
    "* touch_screen: Has touch screen or not\n",
    "* wifi: Support wifi or not\n",
    "\n",
    "Все операции, доступные для rdd есть [тут](https://spark.apache.org/docs/latest/rdd-programming-guide.html#transformations).\n"
   ],
   "metadata": {}
  },
  {
   "cell_type": "code",
   "execution_count": 27,
   "source": [
    "# Пример\n",
    "from pyspark.sql import SparkSession\n",
    "\n",
    "\n",
    "spark = SparkSession.builder\\\n",
    "        .master('local[4]')\\\n",
    "        .appName('Lesson_2')\\\n",
    "        .config('spark.executor.instances', 4)\\\n",
    "        .config('spark.executor.memory', f'{int(3000/1.1)}mb')\\\n",
    "        .config('spark.executor.cores', 1)\\\n",
    "        .getOrCreate()\n",
    "\n",
    "sc = spark.sparkContext\n",
    "\n",
    "train_data = sc.textFile('train.csv')\n",
    "test_data = sc.textFile('test.csv')\n",
    "\n",
    "train_cols = train_data.take(1)[0].split(',')\n",
    "test_cols = test_data.take(1)[0].split(',')\n",
    "print('train data features num:', len(train_cols))\n",
    "print('test data features num:', len(test_cols))\n",
    "print('feats that are in train but not in test:', *[x for x in train_cols if x not in test_cols])\n",
    "print('feats that are in test but not in train:', *[x for x in test_cols if x not in train_cols])\n"
   ],
   "outputs": [
    {
     "output_type": "stream",
     "name": "stdout",
     "text": [
      "train data features num: 21\n",
      "test data features num: 21\n",
      "feats that are in train but not in test: price_range\n",
      "feats that are in test but not in train: id\n"
     ]
    }
   ],
   "metadata": {}
  },
  {
   "cell_type": "code",
   "execution_count": 74,
   "source": [
    "train_data.count()"
   ],
   "outputs": [
    {
     "output_type": "execute_result",
     "data": {
      "text/plain": [
       "2001"
      ]
     },
     "metadata": {},
     "execution_count": 74
    }
   ],
   "metadata": {}
  },
  {
   "cell_type": "code",
   "execution_count": 53,
   "source": [
    "train_df = spark.read.options(header=True, inferSchema='True') \\\n",
    "    .csv('./train.csv')\n",
    "test_df = spark.read.options(header=True, inferSchema='True') \\\n",
    "    .csv('./test.csv')"
   ],
   "outputs": [],
   "metadata": {}
  },
  {
   "cell_type": "code",
   "execution_count": 54,
   "source": [
    "print('Train')\n",
    "train_df.show(3)\n",
    "print('Test')\n",
    "test_df.show(3)"
   ],
   "outputs": [
    {
     "output_type": "stream",
     "name": "stdout",
     "text": [
      "Train\n",
      "+-------------+----+-----------+--------+---+------+----------+-----+---------+-------+---+---------+--------+----+----+----+---------+-------+------------+----+-----------+\n",
      "|battery_power|blue|clock_speed|dual_sim| fc|four_g|int_memory|m_dep|mobile_wt|n_cores| pc|px_height|px_width| ram|sc_h|sc_w|talk_time|three_g|touch_screen|wifi|price_range|\n",
      "+-------------+----+-----------+--------+---+------+----------+-----+---------+-------+---+---------+--------+----+----+----+---------+-------+------------+----+-----------+\n",
      "|          842|   0|        2.2|       0|  1|     0|         7|  0.6|      188|      2|  2|       20|     756|2549|   9|   7|       19|      0|           0|   1|          1|\n",
      "|         1021|   1|        0.5|       1|  0|     1|        53|  0.7|      136|      3|  6|      905|    1988|2631|  17|   3|        7|      1|           1|   0|          2|\n",
      "|          563|   1|        0.5|       1|  2|     1|        41|  0.9|      145|      5|  6|     1263|    1716|2603|  11|   2|        9|      1|           1|   0|          2|\n",
      "+-------------+----+-----------+--------+---+------+----------+-----+---------+-------+---+---------+--------+----+----+----+---------+-------+------------+----+-----------+\n",
      "only showing top 3 rows\n",
      "\n",
      "Test\n",
      "+---+-------------+----+-----------+--------+---+------+----------+-----+---------+-------+---+---------+--------+----+----+----+---------+-------+------------+----+\n",
      "| id|battery_power|blue|clock_speed|dual_sim| fc|four_g|int_memory|m_dep|mobile_wt|n_cores| pc|px_height|px_width| ram|sc_h|sc_w|talk_time|three_g|touch_screen|wifi|\n",
      "+---+-------------+----+-----------+--------+---+------+----------+-----+---------+-------+---+---------+--------+----+----+----+---------+-------+------------+----+\n",
      "|  1|         1043|   1|        1.8|       1| 14|     0|         5|  0.1|      193|      3| 16|      226|    1412|3476|  12|   7|        2|      0|           1|   0|\n",
      "|  2|          841|   1|        0.5|       1|  4|     1|        61|  0.8|      191|      5| 12|      746|     857|3895|   6|   0|        7|      1|           0|   0|\n",
      "|  3|         1807|   1|        2.8|       0|  1|     0|        27|  0.9|      186|      3|  4|     1270|    1366|2396|  17|  10|       10|      0|           1|   1|\n",
      "+---+-------------+----+-----------+--------+---+------+----------+-----+---------+-------+---+---------+--------+----+----+----+---------+-------+------------+----+\n",
      "only showing top 3 rows\n",
      "\n"
     ]
    }
   ],
   "metadata": {}
  }
 ],
 "metadata": {
  "orig_nbformat": 4,
  "language_info": {
   "name": "python",
   "version": "3.8.5",
   "mimetype": "text/x-python",
   "codemirror_mode": {
    "name": "ipython",
    "version": 3
   },
   "pygments_lexer": "ipython3",
   "nbconvert_exporter": "python",
   "file_extension": ".py"
  },
  "kernelspec": {
   "name": "python3",
   "display_name": "Python 3.8.5 64-bit ('base': conda)"
  },
  "interpreter": {
   "hash": "32086f9b7cc52bc2c8629421cf6cba175094c2e18299455caf64f8eb675094c9"
  }
 },
 "nbformat": 4,
 "nbformat_minor": 2
}