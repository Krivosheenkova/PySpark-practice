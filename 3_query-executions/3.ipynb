{
  "nbformat": 4,
  "nbformat_minor": 2,
  "metadata": {
    "colab": {
      "name": "Урок 2. HW rdd df",
      "provenance": [],
      "collapsed_sections": []
    },
    "kernelspec": {
      "name": "python3",
      "display_name": "Python 3.8.5 64-bit ('base': conda)"
    },
    "language_info": {
      "name": "python",
      "version": "3.8.5",
      "mimetype": "text/x-python",
      "codemirror_mode": {
        "name": "ipython",
        "version": 3
      },
      "pygments_lexer": "ipython3",
      "nbconvert_exporter": "python",
      "file_extension": ".py"
    },
    "interpreter": {
      "hash": "32086f9b7cc52bc2c8629421cf6cba175094c2e18299455caf64f8eb675094c9"
    }
  },
  "cells": [
    {
      "cell_type": "markdown",
      "source": [
        "# Создаём точку входа в Spark"
      ],
      "metadata": {
        "id": "8Zc4sdy0s35D"
      }
    },
    {
      "cell_type": "markdown",
      "source": [
        "# Самостоятельная работа\n",
        "\n",
        "Требуется выяснить:\n",
        "1. Какое соотношение сторон экрана телефона самое популярное,\n",
        "2. Плотность пикселей у экрана.\n",
        "\n",
        "Можно использовать только rdd.\n",
        "\n",
        "Всего 8 баллов. \n"
      ],
      "metadata": {
        "id": "VrBE3PdXtOwT"
      }
    },
    {
      "cell_type": "markdown",
      "source": [
        "## Считывание данных\n",
        "Данные взяты отсюда: https://www.kaggle.com/iabhishekofficial/mobile-price-classification\n",
        "Скачиваем и копируем в папку с нотебуком\n",
        "\n",
        "Внутри содержится следующая информация:\n",
        "\n",
        "* id: ID\n",
        "* battery_power: Total energy a battery can store in one time (mAh)\n",
        "* blue: Support bluetooth or not\n",
        "* clock_speed: Speed at which microprocessor executes instructions\n",
        "* dual_sim: Support dual sim or not\n",
        "* fc: Front Camera mega pixels\n",
        "* four_g: Support 4G or not\n",
        "* int_memory: Internal Memory (GB)\n",
        "* m_dep: Mobile Depth (cm)\n",
        "* mobile_wt: Weight of mobile phone\n",
        "* n_cores: Number of cores of processor\n",
        "* pc: Primary Camera mega pixels\n",
        "* px_height: Pixel Resolution Height\n",
        "* px_width: Pixel Resolution Width\n",
        "* ram: Random Access Memory (MB)\n",
        "* sc_h: Screen Height of mobile (cm)\n",
        "* sc_w: Screen Width of mobile (cm)\n",
        "* talk_time: Time that a single battery charge will last\n",
        "* three_g: Support 3G or not\n",
        "* touch_screen: Has touch screen or not\n",
        "* wifi: Support wifi or not"
      ],
      "metadata": {
        "id": "FjAfrNtXSKBz"
      }
    },
    {
      "cell_type": "code",
      "execution_count": 6,
      "source": [
        "def beautiful_print(rdd, num, title):\n",
        "    print(title)\n",
        "    for row in rdd.take(num):\n",
        "        print('\\t', row)"
      ],
      "outputs": [],
      "metadata": {}
    },
    {
      "cell_type": "code",
      "execution_count": 4,
      "source": [
        "from pyspark.sql import SparkSession\n",
        "\n",
        "spark = SparkSession.builder\\\n",
        "        .master('local[4]')\\\n",
        "        .appName('Lesson_3')\\\n",
        "        .config('spark.ui.port', '4050')\\\n",
        "        .config('spark.executor.instances', 4)\\\n",
        "        .config('spark.executor.memory', f'{int(3000/1.1)}mb')\\\n",
        "        .config('spark.executor.cores', 2)\\\n",
        "        .getOrCreate()\n",
        "\n",
        "sc = spark.sparkContext"
      ],
      "outputs": [],
      "metadata": {}
    },
    {
      "cell_type": "code",
      "execution_count": 48,
      "source": [
        "train = sc.textFile('train.csv')\n",
        "test = sc.textFile('test.csv')"
      ],
      "outputs": [],
      "metadata": {
        "id": "3VyKjYOSkLlp"
      }
    },
    {
      "cell_type": "code",
      "execution_count": 49,
      "source": [
        "# Выведите содержимое каждого файла (часть строк) (1 балл)\n",
        "\n",
        "beautiful_print(train, 10, 'Train RDD')\n",
        "beautiful_print(test, 10, 'Test RDD')"
      ],
      "outputs": [
        {
          "output_type": "stream",
          "name": "stdout",
          "text": [
            "Train RDD\n",
            "\t battery_power,blue,clock_speed,dual_sim,fc,four_g,int_memory,m_dep,mobile_wt,n_cores,pc,px_height,px_width,ram,sc_h,sc_w,talk_time,three_g,touch_screen,wifi,price_range\n",
            "\t 842,0,2.2,0,1,0,7,0.6,188,2,2,20,756,2549,9,7,19,0,0,1,1\n",
            "\t 1021,1,0.5,1,0,1,53,0.7,136,3,6,905,1988,2631,17,3,7,1,1,0,2\n",
            "\t 563,1,0.5,1,2,1,41,0.9,145,5,6,1263,1716,2603,11,2,9,1,1,0,2\n",
            "\t 615,1,2.5,0,0,0,10,0.8,131,6,9,1216,1786,2769,16,8,11,1,0,0,2\n",
            "\t 1821,1,1.2,0,13,1,44,0.6,141,2,14,1208,1212,1411,8,2,15,1,1,0,1\n",
            "\t 1859,0,0.5,1,3,0,22,0.7,164,1,7,1004,1654,1067,17,1,10,1,0,0,1\n",
            "\t 1821,0,1.7,0,4,1,10,0.8,139,8,10,381,1018,3220,13,8,18,1,0,1,3\n",
            "\t 1954,0,0.5,1,0,0,24,0.8,187,4,0,512,1149,700,16,3,5,1,1,1,0\n",
            "\t 1445,1,0.5,0,0,0,53,0.7,174,7,14,386,836,1099,17,1,20,1,0,0,0\n",
            "Test RDD\n",
            "\t id,battery_power,blue,clock_speed,dual_sim,fc,four_g,int_memory,m_dep,mobile_wt,n_cores,pc,px_height,px_width,ram,sc_h,sc_w,talk_time,three_g,touch_screen,wifi\n",
            "\t 1,1043,1,1.8,1,14,0,5,0.1,193,3,16,226,1412,3476,12,7,2,0,1,0\n",
            "\t 2,841,1,0.5,1,4,1,61,0.8,191,5,12,746,857,3895,6,0,7,1,0,0\n",
            "\t 3,1807,1,2.8,0,1,0,27,0.9,186,3,4,1270,1366,2396,17,10,10,0,1,1\n",
            "\t 4,1546,0,0.5,1,18,1,25,0.5,96,8,20,295,1752,3893,10,0,7,1,1,0\n",
            "\t 5,1434,0,1.4,0,11,1,49,0.5,108,6,18,749,810,1773,15,8,7,1,0,1\n",
            "\t 6,1464,1,2.9,1,5,1,50,0.8,198,8,9,569,939,3506,10,7,3,1,1,1\n",
            "\t 7,1718,0,2.4,0,1,0,47,1,156,2,3,1283,1374,3873,14,2,10,0,0,0\n",
            "\t 8,833,0,2.4,1,0,0,62,0.8,111,1,2,1312,1880,1495,7,2,18,0,1,1\n",
            "\t 9,1111,1,2.9,1,9,1,25,0.6,101,5,19,556,876,3485,11,9,10,1,1,0\n"
          ]
        }
      ],
      "metadata": {
        "id": "E9Vb0d0hutEb"
      }
    },
    {
      "cell_type": "markdown",
      "source": [
        "##  Преобразуем train и test"
      ],
      "metadata": {
        "id": "5pNi9czovHNh"
      }
    },
    {
      "cell_type": "code",
      "execution_count": 50,
      "source": [
        "train_header = train.first()\n",
        "test_header = test.first()\n",
        "\n",
        "train = train\\\n",
        "    .filter(lambda row: row != train_header)\\\n",
        "    .map(lambda row: [float(el) for el in row.split(',')])\n"
      ],
      "outputs": [],
      "metadata": {
        "id": "8PzsLhWdvCY_"
      }
    },
    {
      "cell_type": "code",
      "execution_count": 51,
      "source": [
        "# Преобразуйте test (1 балл)\n",
        "\n",
        "test = test\\\n",
        "    .filter(lambda row: row != test_header)\\\n",
        "    .map(lambda row: [float(el) for el in row.split(',')])"
      ],
      "outputs": [],
      "metadata": {
        "id": "QKCMFiVenNia"
      }
    },
    {
      "cell_type": "markdown",
      "source": [
        "## Объединим train и test\n",
        "Найти нужную функцию можно [здесь](https://spark.apache.org/docs/3.1.1/api/python/reference/pyspark.html#rdd-apis)\n",
        "\n",
        "PS: нужно сделать средсвтвами rdd pd.concat([train, test,], axis=0)"
      ],
      "metadata": {
        "id": "kjCdeAS4v1Vc"
      }
    },
    {
      "cell_type": "code",
      "execution_count": 31,
      "source": [
        "train.collect().__len__(), test.collect().__len__()"
      ],
      "outputs": [
        {
          "output_type": "execute_result",
          "data": {
            "text/plain": [
              "(2000, 1000)"
            ]
          },
          "metadata": {},
          "execution_count": 31
        }
      ],
      "metadata": {}
    },
    {
      "cell_type": "code",
      "execution_count": 131,
      "source": [
        "# Объедините train и test (2 балла)\n",
        "train_test_union = train.union(test)\n",
        "train_test_union.collect().__len__()\n",
        "train_test_union.toDF().toPandas()"
      ],
      "outputs": [
        {
          "output_type": "execute_result",
          "data": {
            "text/html": [
              "<div>\n",
              "<style scoped>\n",
              "    .dataframe tbody tr th:only-of-type {\n",
              "        vertical-align: middle;\n",
              "    }\n",
              "\n",
              "    .dataframe tbody tr th {\n",
              "        vertical-align: top;\n",
              "    }\n",
              "\n",
              "    .dataframe thead th {\n",
              "        text-align: right;\n",
              "    }\n",
              "</style>\n",
              "<table border=\"1\" class=\"dataframe\">\n",
              "  <thead>\n",
              "    <tr style=\"text-align: right;\">\n",
              "      <th></th>\n",
              "      <th>_1</th>\n",
              "      <th>_2</th>\n",
              "      <th>_3</th>\n",
              "      <th>_4</th>\n",
              "      <th>_5</th>\n",
              "      <th>_6</th>\n",
              "      <th>_7</th>\n",
              "      <th>_8</th>\n",
              "      <th>_9</th>\n",
              "      <th>_10</th>\n",
              "      <th>...</th>\n",
              "      <th>_12</th>\n",
              "      <th>_13</th>\n",
              "      <th>_14</th>\n",
              "      <th>_15</th>\n",
              "      <th>_16</th>\n",
              "      <th>_17</th>\n",
              "      <th>_18</th>\n",
              "      <th>_19</th>\n",
              "      <th>_20</th>\n",
              "      <th>_21</th>\n",
              "    </tr>\n",
              "  </thead>\n",
              "  <tbody>\n",
              "    <tr>\n",
              "      <th>0</th>\n",
              "      <td>842.0</td>\n",
              "      <td>0.0</td>\n",
              "      <td>2.2</td>\n",
              "      <td>0.0</td>\n",
              "      <td>1.0</td>\n",
              "      <td>0.0</td>\n",
              "      <td>7.0</td>\n",
              "      <td>0.6</td>\n",
              "      <td>188.0</td>\n",
              "      <td>2.0</td>\n",
              "      <td>...</td>\n",
              "      <td>20.0</td>\n",
              "      <td>756.0</td>\n",
              "      <td>2549.0</td>\n",
              "      <td>9.0</td>\n",
              "      <td>7.0</td>\n",
              "      <td>19.0</td>\n",
              "      <td>0.0</td>\n",
              "      <td>0.0</td>\n",
              "      <td>1.0</td>\n",
              "      <td>1.0</td>\n",
              "    </tr>\n",
              "    <tr>\n",
              "      <th>1</th>\n",
              "      <td>1021.0</td>\n",
              "      <td>1.0</td>\n",
              "      <td>0.5</td>\n",
              "      <td>1.0</td>\n",
              "      <td>0.0</td>\n",
              "      <td>1.0</td>\n",
              "      <td>53.0</td>\n",
              "      <td>0.7</td>\n",
              "      <td>136.0</td>\n",
              "      <td>3.0</td>\n",
              "      <td>...</td>\n",
              "      <td>905.0</td>\n",
              "      <td>1988.0</td>\n",
              "      <td>2631.0</td>\n",
              "      <td>17.0</td>\n",
              "      <td>3.0</td>\n",
              "      <td>7.0</td>\n",
              "      <td>1.0</td>\n",
              "      <td>1.0</td>\n",
              "      <td>0.0</td>\n",
              "      <td>2.0</td>\n",
              "    </tr>\n",
              "    <tr>\n",
              "      <th>2</th>\n",
              "      <td>563.0</td>\n",
              "      <td>1.0</td>\n",
              "      <td>0.5</td>\n",
              "      <td>1.0</td>\n",
              "      <td>2.0</td>\n",
              "      <td>1.0</td>\n",
              "      <td>41.0</td>\n",
              "      <td>0.9</td>\n",
              "      <td>145.0</td>\n",
              "      <td>5.0</td>\n",
              "      <td>...</td>\n",
              "      <td>1263.0</td>\n",
              "      <td>1716.0</td>\n",
              "      <td>2603.0</td>\n",
              "      <td>11.0</td>\n",
              "      <td>2.0</td>\n",
              "      <td>9.0</td>\n",
              "      <td>1.0</td>\n",
              "      <td>1.0</td>\n",
              "      <td>0.0</td>\n",
              "      <td>2.0</td>\n",
              "    </tr>\n",
              "    <tr>\n",
              "      <th>3</th>\n",
              "      <td>615.0</td>\n",
              "      <td>1.0</td>\n",
              "      <td>2.5</td>\n",
              "      <td>0.0</td>\n",
              "      <td>0.0</td>\n",
              "      <td>0.0</td>\n",
              "      <td>10.0</td>\n",
              "      <td>0.8</td>\n",
              "      <td>131.0</td>\n",
              "      <td>6.0</td>\n",
              "      <td>...</td>\n",
              "      <td>1216.0</td>\n",
              "      <td>1786.0</td>\n",
              "      <td>2769.0</td>\n",
              "      <td>16.0</td>\n",
              "      <td>8.0</td>\n",
              "      <td>11.0</td>\n",
              "      <td>1.0</td>\n",
              "      <td>0.0</td>\n",
              "      <td>0.0</td>\n",
              "      <td>2.0</td>\n",
              "    </tr>\n",
              "    <tr>\n",
              "      <th>4</th>\n",
              "      <td>1821.0</td>\n",
              "      <td>1.0</td>\n",
              "      <td>1.2</td>\n",
              "      <td>0.0</td>\n",
              "      <td>13.0</td>\n",
              "      <td>1.0</td>\n",
              "      <td>44.0</td>\n",
              "      <td>0.6</td>\n",
              "      <td>141.0</td>\n",
              "      <td>2.0</td>\n",
              "      <td>...</td>\n",
              "      <td>1208.0</td>\n",
              "      <td>1212.0</td>\n",
              "      <td>1411.0</td>\n",
              "      <td>8.0</td>\n",
              "      <td>2.0</td>\n",
              "      <td>15.0</td>\n",
              "      <td>1.0</td>\n",
              "      <td>1.0</td>\n",
              "      <td>0.0</td>\n",
              "      <td>1.0</td>\n",
              "    </tr>\n",
              "    <tr>\n",
              "      <th>...</th>\n",
              "      <td>...</td>\n",
              "      <td>...</td>\n",
              "      <td>...</td>\n",
              "      <td>...</td>\n",
              "      <td>...</td>\n",
              "      <td>...</td>\n",
              "      <td>...</td>\n",
              "      <td>...</td>\n",
              "      <td>...</td>\n",
              "      <td>...</td>\n",
              "      <td>...</td>\n",
              "      <td>...</td>\n",
              "      <td>...</td>\n",
              "      <td>...</td>\n",
              "      <td>...</td>\n",
              "      <td>...</td>\n",
              "      <td>...</td>\n",
              "      <td>...</td>\n",
              "      <td>...</td>\n",
              "      <td>...</td>\n",
              "      <td>...</td>\n",
              "    </tr>\n",
              "    <tr>\n",
              "      <th>2995</th>\n",
              "      <td>996.0</td>\n",
              "      <td>1700.0</td>\n",
              "      <td>1.0</td>\n",
              "      <td>1.9</td>\n",
              "      <td>0.0</td>\n",
              "      <td>0.0</td>\n",
              "      <td>1.0</td>\n",
              "      <td>54.0</td>\n",
              "      <td>0.5</td>\n",
              "      <td>170.0</td>\n",
              "      <td>...</td>\n",
              "      <td>17.0</td>\n",
              "      <td>644.0</td>\n",
              "      <td>913.0</td>\n",
              "      <td>2121.0</td>\n",
              "      <td>14.0</td>\n",
              "      <td>8.0</td>\n",
              "      <td>15.0</td>\n",
              "      <td>1.0</td>\n",
              "      <td>1.0</td>\n",
              "      <td>0.0</td>\n",
              "    </tr>\n",
              "    <tr>\n",
              "      <th>2996</th>\n",
              "      <td>997.0</td>\n",
              "      <td>609.0</td>\n",
              "      <td>0.0</td>\n",
              "      <td>1.8</td>\n",
              "      <td>1.0</td>\n",
              "      <td>0.0</td>\n",
              "      <td>0.0</td>\n",
              "      <td>13.0</td>\n",
              "      <td>0.9</td>\n",
              "      <td>186.0</td>\n",
              "      <td>...</td>\n",
              "      <td>2.0</td>\n",
              "      <td>1152.0</td>\n",
              "      <td>1632.0</td>\n",
              "      <td>1933.0</td>\n",
              "      <td>8.0</td>\n",
              "      <td>1.0</td>\n",
              "      <td>19.0</td>\n",
              "      <td>0.0</td>\n",
              "      <td>1.0</td>\n",
              "      <td>1.0</td>\n",
              "    </tr>\n",
              "    <tr>\n",
              "      <th>2997</th>\n",
              "      <td>998.0</td>\n",
              "      <td>1185.0</td>\n",
              "      <td>0.0</td>\n",
              "      <td>1.4</td>\n",
              "      <td>0.0</td>\n",
              "      <td>1.0</td>\n",
              "      <td>1.0</td>\n",
              "      <td>8.0</td>\n",
              "      <td>0.5</td>\n",
              "      <td>80.0</td>\n",
              "      <td>...</td>\n",
              "      <td>12.0</td>\n",
              "      <td>477.0</td>\n",
              "      <td>825.0</td>\n",
              "      <td>1223.0</td>\n",
              "      <td>5.0</td>\n",
              "      <td>0.0</td>\n",
              "      <td>14.0</td>\n",
              "      <td>1.0</td>\n",
              "      <td>0.0</td>\n",
              "      <td>0.0</td>\n",
              "    </tr>\n",
              "    <tr>\n",
              "      <th>2998</th>\n",
              "      <td>999.0</td>\n",
              "      <td>1533.0</td>\n",
              "      <td>1.0</td>\n",
              "      <td>0.5</td>\n",
              "      <td>1.0</td>\n",
              "      <td>0.0</td>\n",
              "      <td>0.0</td>\n",
              "      <td>50.0</td>\n",
              "      <td>0.4</td>\n",
              "      <td>171.0</td>\n",
              "      <td>...</td>\n",
              "      <td>12.0</td>\n",
              "      <td>38.0</td>\n",
              "      <td>832.0</td>\n",
              "      <td>2509.0</td>\n",
              "      <td>15.0</td>\n",
              "      <td>11.0</td>\n",
              "      <td>6.0</td>\n",
              "      <td>0.0</td>\n",
              "      <td>1.0</td>\n",
              "      <td>0.0</td>\n",
              "    </tr>\n",
              "    <tr>\n",
              "      <th>2999</th>\n",
              "      <td>1000.0</td>\n",
              "      <td>1270.0</td>\n",
              "      <td>1.0</td>\n",
              "      <td>0.5</td>\n",
              "      <td>0.0</td>\n",
              "      <td>4.0</td>\n",
              "      <td>1.0</td>\n",
              "      <td>35.0</td>\n",
              "      <td>0.1</td>\n",
              "      <td>140.0</td>\n",
              "      <td>...</td>\n",
              "      <td>19.0</td>\n",
              "      <td>457.0</td>\n",
              "      <td>608.0</td>\n",
              "      <td>2828.0</td>\n",
              "      <td>9.0</td>\n",
              "      <td>2.0</td>\n",
              "      <td>3.0</td>\n",
              "      <td>1.0</td>\n",
              "      <td>0.0</td>\n",
              "      <td>1.0</td>\n",
              "    </tr>\n",
              "  </tbody>\n",
              "</table>\n",
              "<p>3000 rows × 21 columns</p>\n",
              "</div>"
            ],
            "text/plain": [
              "          _1      _2   _3   _4    _5   _6    _7    _8     _9    _10  ...  \\\n",
              "0      842.0     0.0  2.2  0.0   1.0  0.0   7.0   0.6  188.0    2.0  ...   \n",
              "1     1021.0     1.0  0.5  1.0   0.0  1.0  53.0   0.7  136.0    3.0  ...   \n",
              "2      563.0     1.0  0.5  1.0   2.0  1.0  41.0   0.9  145.0    5.0  ...   \n",
              "3      615.0     1.0  2.5  0.0   0.0  0.0  10.0   0.8  131.0    6.0  ...   \n",
              "4     1821.0     1.0  1.2  0.0  13.0  1.0  44.0   0.6  141.0    2.0  ...   \n",
              "...      ...     ...  ...  ...   ...  ...   ...   ...    ...    ...  ...   \n",
              "2995   996.0  1700.0  1.0  1.9   0.0  0.0   1.0  54.0    0.5  170.0  ...   \n",
              "2996   997.0   609.0  0.0  1.8   1.0  0.0   0.0  13.0    0.9  186.0  ...   \n",
              "2997   998.0  1185.0  0.0  1.4   0.0  1.0   1.0   8.0    0.5   80.0  ...   \n",
              "2998   999.0  1533.0  1.0  0.5   1.0  0.0   0.0  50.0    0.4  171.0  ...   \n",
              "2999  1000.0  1270.0  1.0  0.5   0.0  4.0   1.0  35.0    0.1  140.0  ...   \n",
              "\n",
              "         _12     _13     _14     _15   _16   _17   _18  _19  _20  _21  \n",
              "0       20.0   756.0  2549.0     9.0   7.0  19.0   0.0  0.0  1.0  1.0  \n",
              "1      905.0  1988.0  2631.0    17.0   3.0   7.0   1.0  1.0  0.0  2.0  \n",
              "2     1263.0  1716.0  2603.0    11.0   2.0   9.0   1.0  1.0  0.0  2.0  \n",
              "3     1216.0  1786.0  2769.0    16.0   8.0  11.0   1.0  0.0  0.0  2.0  \n",
              "4     1208.0  1212.0  1411.0     8.0   2.0  15.0   1.0  1.0  0.0  1.0  \n",
              "...      ...     ...     ...     ...   ...   ...   ...  ...  ...  ...  \n",
              "2995    17.0   644.0   913.0  2121.0  14.0   8.0  15.0  1.0  1.0  0.0  \n",
              "2996     2.0  1152.0  1632.0  1933.0   8.0   1.0  19.0  0.0  1.0  1.0  \n",
              "2997    12.0   477.0   825.0  1223.0   5.0   0.0  14.0  1.0  0.0  0.0  \n",
              "2998    12.0    38.0   832.0  2509.0  15.0  11.0   6.0  0.0  1.0  0.0  \n",
              "2999    19.0   457.0   608.0  2828.0   9.0   2.0   3.0  1.0  0.0  1.0  \n",
              "\n",
              "[3000 rows x 21 columns]"
            ]
          },
          "metadata": {},
          "execution_count": 131
        }
      ],
      "metadata": {
        "id": "5-Oeq54KxhXa"
      }
    },
    {
      "cell_type": "markdown",
      "source": [
        "## Рассчитайте соотношение сторон телефона и экрана"
      ],
      "metadata": {
        "id": "GxGGHqRyx7XG"
      }
    },
    {
      "cell_type": "code",
      "execution_count": 146,
      "source": [
        "# Выведите отсортированное распределение соотношений сторон экрана(1 балла)\n",
        "# в разрезе широкоформатные или нет (экран широкоформатный, если соотногшение >=16:9)\n",
        "# sc_h, sc_w\n",
        "\n",
        "height = train_header.split(',').index('sc_h')\n",
        "width = train_header.split(',').index('sc_w')\n",
        "\n",
        "screen_wh_relation = train_test_union.map(lambda row: (row[width], row[height]))\\\n",
        "                                     .reduceByKey(lambda x, y: y / x)\\\n",
        "                                     .sortByKey()\\\n",
        "                                     .values()\\\n",
        "                                     .collect()"
      ],
      "outputs": [],
      "metadata": {
        "id": "HckZvR72xs7W"
      }
    },
    {
      "cell_type": "code",
      "execution_count": 145,
      "source": [
        "# Выведите отсортированное распределение плотности пикселей (1 балл)\n",
        "# px_height, px_width, 1in ~ 96px\n",
        "\n",
        "height = train_header.split(',').index('px_height')\n",
        "width = train_header.split(',').index('px_width')\n",
        "# как-то здесь не так. но я не понимаю, откуда взять диагональ\n",
        "# перевести пиксели высоты и ширины в дюймы и высчитать по теореме Пифагора?\n",
        "train_test_union.map(lambda row: (row[width], row[height]))\\\n",
        "                .reduceByKey(lambda x, y: (x**2 + y**2)**0.5/((y/64)**2 + (x/64)**2))\\\n",
        "                .sortByKey()\\\n",
        "                .collect()[:10]"
      ],
      "outputs": [
        {
          "output_type": "execute_result",
          "data": {
            "text/plain": [
              "[(0.0, 234.15273491457205),\n",
              " (2.0, 7.0),\n",
              " (3.0, 7.0),\n",
              " (4.0, 9.0),\n",
              " (5.0, 9.0),\n",
              " (6.0, 7.0),\n",
              " (7.0, 19.722854275552248),\n",
              " (9.0, 164.8987509203916),\n",
              " (10.0, 301.14390920962364),\n",
              " (11.0, 2.0)]"
            ]
          },
          "metadata": {},
          "execution_count": 145
        }
      ],
      "metadata": {
        "id": "yZgL4q1gyrRm"
      }
    },
    {
      "cell_type": "markdown",
      "source": [
        "# JOIN\n",
        "Повторите вышеописанное задание с помощью одной из функций ниже (отдельно рассчитайте для train и test, затем объедините результат)\n",
        "\n",
        "Пример для двух RDDs: (rdd = {(1, 2), (3, 4), (3, 6)} other = {(3, 9)})\n",
        "\n",
        "Имя функции |\tPurpose |\tExample |\tResult\n",
        "------------- |\t------- |\t------- |\t------\n",
        "subtractByKey |Remove elements with a key present in the other RDD.| rdd.subtractByKey(other) | {(1, 2)}\n",
        "join | Perform an inner join between two RDDs. | rdd.join(other) | {(3, (4, 9)), (3, (6, 9))}\n",
        "rightOuterJoin | Perform a join between two RDDs where the key must be present in the first RDD. | rdd.rightOuterJoin(other) | {(3,(Some(4),9)), (3,(Some(6),9))}leftOuterJoin | Perform a join between two RDDs where the key must be present in the other RDD. | rdd.leftOuterJoin(other) | {(1,(2,None)), (3,(4,Some(9))), (3,(6,Some(9)))}\n",
        "cogroup | Group data from both RDDs sharing the same key. | rdd.cogroup(other) | {(1,([2],[])), (3,([4, 6],[9]))}\n"
      ],
      "metadata": {
        "id": "PNAGeyOmzEN4"
      }
    },
    {
      "cell_type": "code",
      "execution_count": null,
      "source": [
        "# 2 балла\n",
        "###############\n",
        "# Ваш код здесь\n",
        "###############"
      ],
      "outputs": [],
      "metadata": {
        "id": "kRb1q9QizDiH"
      }
    },
    {
      "cell_type": "markdown",
      "source": [
        "# DataFrame\n",
        "Теперь мы знаем про Dataframe. Нужно сделать практически всё то же самое, но используя датафрейм."
      ],
      "metadata": {
        "id": "uySWyv8CXIMF"
      }
    },
    {
      "cell_type": "code",
      "execution_count": 160,
      "source": [
        "# Считываем и объединяем данные (1 балл)\n",
        "# Приведите все данные к правильному типу, либо считайе сразу верно (1 балл)\n",
        "\n",
        "train_df = spark.read.csv('train.csv', header=True, inferSchema=True)\n",
        "test_df = spark.read.csv('test.csv', header=True, inferSchema=True)\n",
        "\n",
        "# Создаём колонки с соотношением сторон и плотностью пикселей (1 балл)\n"
      ],
      "outputs": [],
      "metadata": {
        "id": "48HI_jrnbKEk"
      }
    },
    {
      "cell_type": "markdown",
      "source": [
        "## Сохранение\n"
      ],
      "metadata": {
        "id": "FtJ2G-Eob6LI"
      }
    },
    {
      "cell_type": "code",
      "execution_count": null,
      "source": [
        "# Сохраните результат в csv sep=';', encoding='cp1251'\n",
        "# с колонками id, плотность пикселей и временем разговора в формате \"1day 1hour 1minute\"\n",
        "# 2 балла\n",
        "\n"
      ],
      "outputs": [],
      "metadata": {
        "id": "sgRM7IV3b6LJ"
      }
    }
  ]
}